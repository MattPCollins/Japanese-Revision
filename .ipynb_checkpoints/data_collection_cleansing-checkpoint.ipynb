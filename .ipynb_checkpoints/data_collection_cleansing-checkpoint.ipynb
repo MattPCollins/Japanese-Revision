{
 "cells": [
  {
   "cell_type": "code",
   "execution_count": 5,
   "metadata": {},
   "outputs": [],
   "source": [
    "# -*- coding:utf-8 -*-\n",
    "import webbrowser\n",
    "import requests\n",
    "from bs4 import BeautifulSoup as bs\n",
    "import re\n",
    "import pandas as pd\n",
    "from datetime import datetime as dt\n",
    "import numpy as np\n",
    "\n",
    "# gen url to jisho\n",
    "def webInfo(kan):\n",
    "    webstem = 'https://jisho.org/search/'\n",
    "    suffix = \"\"\n",
    "    k = str((kan).encode(\"utf-8\"))\n",
    "    kanji = k[2:-1]\n",
    "    chars = \"\\\\x\"\n",
    "    kanji = kanji.replace(chars, '%')\n",
    "    webstring = webstem + kanji + suffix\n",
    "    return webstring\n",
    "\n",
    "\n",
    "# Load webpage content\n",
    "def jlptGrade(webstring):\n",
    "    r = requests.get(webstring)\n",
    "    soup = bs(r.content, features=\"html.parser\")\n",
    "    try:\n",
    "        n = soup.find(\"span\", string=re.compile('(JLPT|jlpt)')).text\n",
    "        grade = n.split(' ')[1]\n",
    "    except:\n",
    "        grade = 'NX'\n",
    "    return grade"
   ]
  },
  {
   "cell_type": "code",
   "execution_count": 6,
   "metadata": {},
   "outputs": [
    {
     "name": "stdout",
     "output_type": "stream",
     "text": [
      "Scraped!\n",
      "Processed\n",
      "Saved\n"
     ]
    }
   ],
   "source": [
    "# All:\n",
    "path = '/Users/mattcollins/Projects/MyProject/KanjiProgram/csvs/word_dictionary.csv'\n",
    "df = pd.read_csv(path)\n",
    "kanjis = df['kanji']\n",
    "prevs= pd.read_csv('kanji_data_cleansed.csv')\n",
    "grades = list(prevs.grade)\n",
    "maxer = prevs['word index'].max()\n",
    "\n",
    "for i,kanji in enumerate(kanjis):\n",
    "    if i > maxer:\n",
    "        if i % 10 ==0 or i == maxer + 1:\n",
    "            print(i, kanji)\n",
    "        webstring = webInfo(kanji)\n",
    "        grade = jlptGrade(webstring)\n",
    "        grades.append(grade)\n",
    "print('Scraped!')\n",
    "df['grade'] = grades\n",
    "path = '/Users/mattcollins/Projects/MyProject/KanjiProgram/csvs/streak.csv'\n",
    "df_str = pd.read_csv(path)\n",
    "df['streak'] = df_str.streak\n",
    "df['level'] = df.streak.apply(lambda x: 'expert' if x > 7 else 'advanced' if x > 2 else 'beginner')\n",
    "path = '/Users/mattcollins/Projects/MyProject/KanjiProgram/csvs/results2.csv'\n",
    "df_res = pd.read_csv(path)\n",
    "fails = df_res.groupby('index_word')['result'].value_counts().unstack().fillna(0)[0]\n",
    "successes = df_res.groupby('index_word')['result'].value_counts().unstack().fillna(0)[1]\n",
    "df['total_attempts'] = (fails + successes)\n",
    "df['total_successes'] = successes\n",
    "df['total_fails'] = fails\n",
    "df['success_ratio'] = df['total_successes']/df['total_attempts']\n",
    "today_ = pd.to_datetime('today').normalize()\n",
    "df['age'] = df.date_added.apply(lambda x: today_ - pd.to_datetime(dt.strptime(x,\"%d/%m/%Y\"))).dt.days\n",
    "df['reset'] = np.where((df.streak < 8) & (df.age > 200), 1, 0)\n",
    "print('Processed')\n",
    "df.to_csv('kanji_data_cleansed.csv', index=False)\n",
    "print('Saved')"
   ]
  },
  {
   "cell_type": "code",
   "execution_count": null,
   "metadata": {},
   "outputs": [],
   "source": []
  }
 ],
 "metadata": {
  "kernelspec": {
   "display_name": "Python 3",
   "language": "python",
   "name": "python3"
  },
  "language_info": {
   "codemirror_mode": {
    "name": "ipython",
    "version": 3
   },
   "file_extension": ".py",
   "mimetype": "text/x-python",
   "name": "python",
   "nbconvert_exporter": "python",
   "pygments_lexer": "ipython3",
   "version": "3.7.4"
  }
 },
 "nbformat": 4,
 "nbformat_minor": 4
}
