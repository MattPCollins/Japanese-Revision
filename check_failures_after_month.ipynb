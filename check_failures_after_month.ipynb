{
 "cells": [
  {
   "cell_type": "code",
   "execution_count": 1,
   "metadata": {},
   "outputs": [],
   "source": [
    "import pandas as pd\n",
    "\n",
    "df = pd.read_csv('kanji_data_cleansed.csv')\n",
    "df_fact_streak = pd.read_csv('/Users/mattcollins/Projects/MyProject/KanjiProgram/csvs/fact_streak.csv')"
   ]
  },
  {
   "cell_type": "markdown",
   "metadata": {},
   "source": [
    "Find words in each sample (include cut-off point based on prev analysis, eg after November). CHECK\n",
    "Find level at which there is a 31 day wait. CHECK\n",
    "Check results2.csv for failures at this point, demonstrating struggle to recall.\n",
    "Compare sample to sample."
   ]
  },
  {
   "cell_type": "code",
   "execution_count": 2,
   "metadata": {},
   "outputs": [],
   "source": [
    "# Cut-off date for old data\n",
    "df = df.loc[pd.to_datetime(df['date_added'], dayfirst=True)>pd.to_datetime('01/10/2020', dayfirst=True)]\n",
    "\n",
    "# Filter for correct level: This is the date each word hit level 7. \n",
    "# After this, there is a 31 day wait before attempting again.\n",
    "level = 7\n",
    "df_fact_streak = df_fact_streak.loc[df_fact_streak['streak']==level]\n",
    "\n",
    "# Remove duplicates! We will only be looking at the first time that a word hits level 7.\n",
    "my_list = list(df_fact_streak.index_word.unique())\n",
    "indexes = []\n",
    "for i in my_list:\n",
    "    indexes.append(df_fact_streak[df_fact_streak.index_word == i].index[0])\n",
    "    \n",
    "df_fact_streak = df_fact_streak[df_fact_streak.index.isin(indexes)]\n",
    "\n",
    "# Split into df for each sample:\n",
    "df_1 = df.loc[df['sample'] ==1]\n",
    "df_fact_1 = df_fact_streak.loc[df_fact_streak['index_word'].isin(list(df_1['word index']))]\n",
    "\n",
    "df_4 = df.loc[df['sample'] ==4]\n",
    "df_fact_4 = df_fact_streak.loc[df_fact_streak['index_word'].isin(list(df_4['word index']))]\n",
    "\n",
    "df_5 = df.loc[df['sample'] ==5]\n",
    "df_fact_5 = df_fact_streak.loc[df_fact_streak['index_word'].isin(list(df_5['word index']))]"
   ]
  },
  {
   "cell_type": "code",
   "execution_count": 53,
   "metadata": {},
   "outputs": [
    {
     "name": "stdout",
     "output_type": "stream",
     "text": [
      "Words in Sample: 91\n",
      "Percent including a failure: 28.57%\n",
      "Percent with no failures: 71.43%\n",
      "\n",
      "Words in Sample: 52\n",
      "Percent including a failure: 28.85%\n",
      "Percent with no failures: 71.15%\n",
      "\n",
      "Words in Sample: 50\n",
      "Percent including a failure: 34.0%\n",
      "Percent with no failures: 66.0%\n",
      "\n"
     ]
    },
    {
     "data": {
      "text/html": [
       "<div>\n",
       "<style scoped>\n",
       "    .dataframe tbody tr th:only-of-type {\n",
       "        vertical-align: middle;\n",
       "    }\n",
       "\n",
       "    .dataframe tbody tr th {\n",
       "        vertical-align: top;\n",
       "    }\n",
       "\n",
       "    .dataframe thead th {\n",
       "        text-align: right;\n",
       "    }\n",
       "</style>\n",
       "<table border=\"1\" class=\"dataframe\">\n",
       "  <thead>\n",
       "    <tr style=\"text-align: right;\">\n",
       "      <th></th>\n",
       "      <th>sample</th>\n",
       "      <th>success%</th>\n",
       "      <th>failure%</th>\n",
       "    </tr>\n",
       "  </thead>\n",
       "  <tbody>\n",
       "    <tr>\n",
       "      <th>0</th>\n",
       "      <td>1</td>\n",
       "      <td>71.43</td>\n",
       "      <td>28.57</td>\n",
       "    </tr>\n",
       "    <tr>\n",
       "      <th>1</th>\n",
       "      <td>4</td>\n",
       "      <td>71.15</td>\n",
       "      <td>28.85</td>\n",
       "    </tr>\n",
       "    <tr>\n",
       "      <th>2</th>\n",
       "      <td>5</td>\n",
       "      <td>66.00</td>\n",
       "      <td>34.00</td>\n",
       "    </tr>\n",
       "  </tbody>\n",
       "</table>\n",
       "</div>"
      ],
      "text/plain": [
       "   sample  success%  failure%\n",
       "0       1     71.43     28.57\n",
       "1       4     71.15     28.85\n",
       "2       5     66.00     34.00"
      ]
     },
     "execution_count": 53,
     "metadata": {},
     "output_type": "execute_result"
    }
   ],
   "source": [
    "# Check results data for next attempt after this date:\n",
    "# Load data\n",
    "df_results = pd.read_csv('/Users/mattcollins/Projects/MyProject/KanjiProgram/csvs/results2.csv')\n",
    "\n",
    "# Get the first attempt after the 31 day wait for each word.\n",
    "# Generate output stating if any failures were detected (0) or all attempts on this date were successful (1).\n",
    "def check_for_failure(df, index_word):\n",
    "    top_1 = df.iloc[[index_word]]\n",
    "    top_1_word = top_1.index_word.item()\n",
    "    top_1_date = top_1.date.item()\n",
    "    results = df_results.loc[(df_results['index_word']==top_1_word) & (df_results['date']> top_1_date)]\n",
    "    output = results.loc[results.date == results.date.min()]\n",
    "    if 0 in list(output.result):\n",
    "        return 0\n",
    "    else:\n",
    "        return 1\n",
    "\n",
    "# Return results as proportion of words in that sample.\n",
    "def find_failures(df):\n",
    "    failures = []\n",
    "    for i in list(range(len(df))):\n",
    "        failures.append(check_for_failure(df, i))\n",
    "    print('Words in Sample: {}'.format(len(failures)))\n",
    "    failure_with = round(100 * failures.count(0)/len(failures),2)\n",
    "    failure_without = round(100 * failures.count(1)/len(failures),2)\n",
    "    print('Percent including a failure: {}%'.format(failure_with))\n",
    "    print('Percent with no failures: {}%'.format(failure_without))\n",
    "    print()\n",
    "    failures_row = [df.iloc[0]['sample'], failure_without,failure_with]\n",
    "    return failures_row\n",
    "\n",
    "failures_list = []\n",
    "for df in [df_fact_1,df_fact_4,df_fact_5]:\n",
    "    failures_row = find_failures(df)\n",
    "    failures_list.append(failures_row)\n",
    "    \n",
    "failures_df = pd.DataFrame(failures_list,columns=['sample','success%','failure%'])\n",
    "failures_df"
   ]
  },
  {
   "cell_type": "code",
   "execution_count": 63,
   "metadata": {},
   "outputs": [
    {
     "data": {
      "text/plain": [
       "Text(0.5, 1.0, 'Count of Words in each Sample')"
      ]
     },
     "execution_count": 63,
     "metadata": {},
     "output_type": "execute_result"
    },
    {
     "data": {
      "image/png": "[encoded data removed]",
      "text/plain": [
       "<Figure size 864x432 with 1 Axes>"
      ]
     },
     "metadata": {
      "needs_background": "light"
     },
     "output_type": "display_data"
    },
    {
     "data": {
      "text/plain": [
       "<Figure size 576x360 with 0 Axes>"
      ]
     },
     "metadata": {},
     "output_type": "display_data"
    }
   ],
   "source": [
    "ax = failures_df[['failure%', 'success%']].plot.bar(stacked=True, figsize=(12,6))\n",
    "plt.figure(figsize=(8,5))\n",
    "\n",
    "\n",
    "# ax.set_xticklabels(chart.get_xticklabels(), rotation=90)\n",
    "ax.set(xlabel='Success Failure Split (%)', ylabel='Count') \n",
    "ax.set_title(\"Count of Words in each Sample\")\n",
    "plt.savefig('screenshots/sample_success_failure.png') "
   ]
  },
  {
   "cell_type": "code",
   "execution_count": null,
   "metadata": {},
   "outputs": [],
   "source": []
  }
 ],
 "metadata": {
  "kernelspec": {
   "display_name": "Python 3",
   "language": "python",
   "name": "python3"
  },
  "language_info": {
   "codemirror_mode": {
    "name": "ipython",
    "version": 3
   },
   "file_extension": ".py",
   "mimetype": "text/x-python",
   "name": "python",
   "nbconvert_exporter": "python",
   "pygments_lexer": "ipython3",
   "version": "3.7.4"
  }
 },
 "nbformat": 4,
 "nbformat_minor": 4
}
